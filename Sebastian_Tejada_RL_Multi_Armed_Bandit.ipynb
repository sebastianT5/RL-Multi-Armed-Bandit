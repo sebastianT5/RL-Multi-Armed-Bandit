{
  "nbformat": 4,
  "nbformat_minor": 0,
  "metadata": {
    "colab": {
      "provenance": [],
      "include_colab_link": true
    },
    "kernelspec": {
      "name": "python3",
      "display_name": "Python 3"
    },
    "language_info": {
      "name": "python"
    }
  },
  "cells": [
    {
      "cell_type": "markdown",
      "metadata": {
        "id": "view-in-github",
        "colab_type": "text"
      },
      "source": [
        "<a href=\"https://colab.research.google.com/github/sebastianT5/RL-Multi-Armed-Bandit/blob/main/Sebastian_Tejada_RL_Multi_Armed_Bandit.ipynb\" target=\"_parent\"><img src=\"https://colab.research.google.com/assets/colab-badge.svg\" alt=\"Open In Colab\"/></a>"
      ]
    },
    {
      "cell_type": "markdown",
      "source": [
        "# Reinforcement Learning\n",
        "\n"
      ],
      "metadata": {
        "id": "ArYg8sQyE4oy"
      }
    },
    {
      "cell_type": "markdown",
      "source": [
        "## Multi-Armed Bandit\n",
        "\n",
        "Today, we're going to code the environment and basic strategies for the classic toy RL problem, the Multi-Armed Bandit.\n",
        "\n",
        "https://jamesrledoux.com/algorithms/bandit-algorithms-epsilon-ucb-exp-python/\n",
        "\n",
        "https://cse442-17f.github.io/LinUCB"
      ],
      "metadata": {
        "id": "RiZQzvZDSum2"
      }
    },
    {
      "cell_type": "code",
      "execution_count": null,
      "metadata": {
        "id": "x0VClln8T1UT"
      },
      "outputs": [],
      "source": [
        "import numpy as np\n",
        "from typing import List\n",
        "import matplotlib.pyplot as plt\n",
        "import random\n",
        "from abc import ABC, abstractmethod"
      ]
    },
    {
      "cell_type": "markdown",
      "source": [
        "Implement the MultiArmedBandit Environment"
      ],
      "metadata": {
        "id": "Y8OF8kZHTUXE"
      }
    },
    {
      "cell_type": "code",
      "source": [
        "class MultiArmedBandit:\n",
        "    \"\"\"\n",
        "    Multi-Armed Bandit environment.\n",
        "    Each arm has a fixed but unknown probability of paying out a reward.\n",
        "    \"\"\"\n",
        "\n",
        "    def __init__(self, n_arms, reward_probabilities: List =None):\n",
        "        \"\"\"\n",
        "        Initialize the environment.\n",
        "        :param n_arms: Number of arms in the bandit.\n",
        "        :param reward_probabilities: List of probabilities for each arm to give a reward.\n",
        "                                     If None, they are randomly generated.\n",
        "        \"\"\"\n",
        "        self.n_arms = n_arms\n",
        "        if reward_probabilities is None:\n",
        "            self.reward_probabilities = np.random.rand(n_arms)\n",
        "        else:\n",
        "            if len(reward_probabilities) != n_arms:\n",
        "                raise ValueError(\"Length of reward probabilities must match number of arms.\")\n",
        "            self.reward_probabilities = np.array(reward_probabilities)\n",
        "\n",
        "    def pull(self, arm):\n",
        "        \"\"\"\n",
        "        Simulate pulling an arm of the bandit.\n",
        "        :param arm: The arm to pull.\n",
        "        :return: The reward (1 for success, 0 for failure).\n",
        "        \"\"\"\n",
        "        if arm < 0 or arm >= self.n_arms:\n",
        "            raise ValueError(\"Invalid arm number.\")\n",
        "        return 1 if np.random.rand() < self.reward_probabilities[arm] else 0\n",
        "\n",
        "# Example: Create a bandit with 5 arms\n",
        "N_ARMS = 10\n",
        "# REWARD_PROBS = [0, 0.2, 0.4, 0.6, 0.8]\n",
        "bandit_env = MultiArmedBandit(n_arms=N_ARMS, reward_probabilities = None)\n",
        "\n",
        "bandit_env.reward_probabilities  # Show the probabilities for demonstration purposes"
      ],
      "metadata": {
        "id": "XcdSWicPT5YJ",
        "colab": {
          "base_uri": "https://localhost:8080/"
        },
        "outputId": "4a6f7931-71b6-40ce-a9d1-e05df99009cd"
      },
      "execution_count": null,
      "outputs": [
        {
          "output_type": "execute_result",
          "data": {
            "text/plain": [
              "array([0.31936257, 0.94567797, 0.11469712, 0.25430119, 0.82125682,\n",
              "       0.28815432, 0.11606422, 0.64257145, 0.56732986, 0.82845218])"
            ]
          },
          "metadata": {},
          "execution_count": 2
        }
      ]
    },
    {
      "cell_type": "code",
      "source": [
        "def test_bandit_arms(bandit, pulls_per_arm):\n",
        "    \"\"\"\n",
        "    Test each arm of the multi-armed bandit by pulling it a number of times and recording the total reward.\n",
        "    :param bandit: The MultiArmedBandit instance.\n",
        "    :param pulls_per_arm: Number of times to pull each arm.\n",
        "    :return: List of sum of rewards received from each arm.\n",
        "    \"\"\"\n",
        "    rewards = np.zeros(bandit.n_arms)\n",
        "    for arm in range(bandit.n_arms):\n",
        "        for _ in range(pulls_per_arm):\n",
        "            rewards[arm] += bandit.pull(arm)\n",
        "    return rewards\n",
        "\n",
        "# Pull each arm of the bandit 100 times and record the rewards\n",
        "pulls_per_arm = 100\n",
        "arm_rewards = test_bandit_arms(bandit_env, pulls_per_arm)\n",
        "\n",
        "# Plotting the histogram\n",
        "plt.bar(range(1, bandit_env.n_arms + 1), arm_rewards)\n",
        "plt.xlabel('Arm')\n",
        "plt.ylabel('Rewards Received')\n",
        "plt.title(f'Histogram of Rewards for {pulls_per_arm} Pulls per Arm')\n",
        "plt.xticks(range(1, bandit_env.n_arms + 1))\n",
        "plt.show()\n"
      ],
      "metadata": {
        "colab": {
          "base_uri": "https://localhost:8080/",
          "height": 472
        },
        "id": "ULs4oGH1T9SW",
        "outputId": "6f2811b6-a57b-44b8-a178-2de3e63eed13"
      },
      "execution_count": null,
      "outputs": [
        {
          "output_type": "display_data",
          "data": {
            "text/plain": [
              "<Figure size 640x480 with 1 Axes>"
            ],
            "image/png": "[encoded data removed]"
          },
          "metadata": {}
        }
      ]
    },
    {
      "cell_type": "markdown",
      "source": [
        "## Random Strategy"
      ],
      "metadata": {
        "id": "FxGSfmluUVdu"
      }
    },
    {
      "cell_type": "code",
      "source": [
        "class BanditAgent(ABC):\n",
        "    \"\"\"\n",
        "    Abstract class for a bandit agent.\n",
        "    \"\"\"\n",
        "\n",
        "    def __init__(self, n_arms):\n",
        "        \"\"\"\n",
        "        Initialize the bandit agent.\n",
        "        :param n_arms: Number of arms in the bandit.\n",
        "        \"\"\"\n",
        "        self.n_arms = n_arms\n",
        "\n",
        "    @abstractmethod\n",
        "    def select_arm(self):\n",
        "        \"\"\"\n",
        "        Abstract method to select which arm to pull.\n",
        "        Must be implemented by non-abstract subclasses.\n",
        "        :return: Index of the selected arm.\n",
        "        \"\"\"\n",
        "        pass\n",
        "\n",
        "    @abstractmethod\n",
        "    def update(self, chosen_arm, reward):\n",
        "        \"\"\"\n",
        "        Abstract method to update the agent's state based on the last action and reward.\n",
        "        Must be implemented by non-abstract subclasses.\n",
        "        :param chosen_arm: The arm that was chosen.\n",
        "        :param reward: The reward received from the chosen arm.\n",
        "        \"\"\"\n",
        "        pass\n",
        "\n",
        "class RandomBanditAgent(BanditAgent):\n",
        "    \"\"\"\n",
        "    An example subclass of BanditAgent that selects arms randomly.\n",
        "    \"\"\"\n",
        "    def select_arm(self):\n",
        "      return random.randint(0, self.n_arms - 1)\n",
        "\n",
        "    def update(self, chosen_arm, reward):\n",
        "        # In a random agent, there's no need to update anything based on the reward.\n",
        "        pass\n",
        "\n",
        "# Example usage\n",
        "n_arms = 5\n",
        "random_agent = RandomBanditAgent(n_arms)\n",
        "selected_arm = random_agent.select_arm()\n",
        "selected_arm  # Show the randomly selected arm"
      ],
      "metadata": {
        "colab": {
          "base_uri": "https://localhost:8080/"
        },
        "id": "J_AXuIb_UU5W",
        "outputId": "6e605973-008a-4dcd-91d5-7285275d8ac5"
      },
      "execution_count": null,
      "outputs": [
        {
          "output_type": "execute_result",
          "data": {
            "text/plain": [
              "4"
            ]
          },
          "metadata": {},
          "execution_count": 5
        }
      ]
    },
    {
      "cell_type": "code",
      "source": [
        "def eval_agent(env, agent, N = 1000):\n",
        "  #Return the total reward achieved over N steps\n",
        "  total_reward = 0\n",
        "  for _ in range(N):\n",
        "    selected_arm = agent.select_arm()\n",
        "    reward = env.pull(agent.select_arm())\n",
        "    total_reward += reward\n",
        "\n",
        "    agent.update(selected_arm, reward)\n",
        "\n",
        "  return total_reward\n",
        "\n",
        "eval_agent(bandit_env, random_agent)"
      ],
      "metadata": {
        "colab": {
          "base_uri": "https://localhost:8080/"
        },
        "id": "AUyuGHy8UAnH",
        "outputId": "f8949454-52ab-4fe3-ed86-c0d41bf1dfb9"
      },
      "execution_count": null,
      "outputs": [
        {
          "output_type": "execute_result",
          "data": {
            "text/plain": [
              "498"
            ]
          },
          "metadata": {},
          "execution_count": 10
        }
      ]
    },
    {
      "cell_type": "markdown",
      "source": [
        "## Epsilon Greedy"
      ],
      "metadata": {
        "id": "5UhpSdOeWk0E"
      }
    },
    {
      "cell_type": "markdown",
      "source": [
        "Epsilon Greedy is a famous algorithm where epsilon of the time, the agent does something random (explores) and everytime else, the agent chooses the arm that has the highest empirical average"
      ],
      "metadata": {
        "id": "0APiuX9OFQk4"
      }
    },
    {
      "cell_type": "code",
      "source": [
        "class EpsilonGreedyBandit(BanditAgent):\n",
        "    \"\"\"\n",
        "    An example subclass of BanditAgent that selects arms randomly.\n",
        "    \"\"\"\n",
        "    def __init__(self, n_arms, eps):\n",
        "        super().__init__(n_arms)\n",
        "\n",
        "        self.eps = eps\n",
        "\n",
        "        self.arm_avg_rewards = np.zeros(self.n_arms)\n",
        "        self.arm_total_rewards = np.zeros(self.n_arms)\n",
        "        self.num_arm_pulls = np.zeros(self.n_arms)\n",
        "\n",
        "    def select_arm(self):\n",
        "        if random.random() < self.eps or all(n == 0 for n in self.arm_avg_rewards):\n",
        "          # Explore: randomly select an arm\n",
        "          return random.randint(0, n_arms - 1)\n",
        "        else:\n",
        "          return np.argmax(self.arm_avg_rewards)\n",
        "\n",
        "    def update(self, chosen_arm, reward):\n",
        "        self.arm_total_rewards[chosen_arm] += reward\n",
        "        self.num_arm_pulls[chosen_arm] += 1\n",
        "\n",
        "        self.arm_avg_rewards[chosen_arm] = self.arm_total_rewards[chosen_arm] / self.num_arm_pulls[chosen_arm]\n",
        "\n",
        "eps_agent = EpsilonGreedyBandit(5, 0.01)"
      ],
      "metadata": {
        "id": "LwjlnOCtV9PD"
      },
      "execution_count": null,
      "outputs": []
    },
    {
      "cell_type": "code",
      "source": [
        "eval_agent(bandit_env, eps_agent, N = 10000)"
      ],
      "metadata": {
        "colab": {
          "base_uri": "https://localhost:8080/"
        },
        "id": "1WEtVmHYZD1B",
        "outputId": "ccd52fe7-a8c1-47a0-bc61-8da75d518154"
      },
      "execution_count": null,
      "outputs": [
        {
          "output_type": "execute_result",
          "data": {
            "text/plain": [
              "9085"
            ]
          },
          "metadata": {},
          "execution_count": 9
        }
      ]
    },
    {
      "cell_type": "markdown",
      "source": [
        "## Upper Confidence Bound (UCB) Strategy\n",
        "\n"
      ],
      "metadata": {
        "id": "UV8D_69qZnPB"
      }
    },
    {
      "cell_type": "markdown",
      "source": [
        "Upper Confidence Bound agents is a strategy where you always pick the arm that has the highest upper confidence bound (which is a measure of its empirical average reward plus how uncertain you are about that arm)\n",
        "\n",
        "You can read more about UCB here: https://jamesrledoux.com/algorithms/bandit-algorithms-epsilon-ucb-exp-python/\n",
        "\n",
        "The UCB value update algorithm is\n",
        "\n",
        "UCB Value for arm i = Average reward for arm i + $\\sqrt{c \\cdot \\frac{\\ln(\\text{total arm pulls})}{\\text{arm pulls for arm i}}}$"
      ],
      "metadata": {
        "id": "HOjKtAh7EwEm"
      }
    },
    {
      "cell_type": "code",
      "source": [
        "class UCBAgent(BanditAgent):\n",
        "    \"\"\"\n",
        "    An example subclass of BanditAgent that selects arms randomly.\n",
        "    \"\"\"\n",
        "    def __init__(self, n_arms, c = 2):\n",
        "        super().__init__(n_arms)\n",
        "\n",
        "        self.c = c\n",
        "\n",
        "        self.arm_total_rewards = np.zeros(self.n_arms)\n",
        "        self.num_arm_pulls = np.zeros(self.n_arms)\n",
        "\n",
        "        self.ucb_values = np.full(n_arms, np.inf)\n",
        "\n",
        "    def select_arm(self):\n",
        "        if any(n == np.inf for n in self.ucb_values):\n",
        "          #try every arm at least once\n",
        "          indices = np.where(self.ucb_values == np.inf)[0]\n",
        "          return random.choice(indices)\n",
        "        else:\n",
        "          return np.argmax(self.ucb_values)\n",
        "\n",
        "    def update(self, chosen_arm, reward):\n",
        "        self.arm_total_rewards[chosen_arm] += reward\n",
        "        self.num_arm_pulls[chosen_arm] += 1\n",
        "\n",
        "        self.ucb_values[chosen_arm] = (self.arm_total_rewards[chosen_arm] / self.num_arm_pulls[chosen_arm]) + np.sqrt(self.c * np.log(self.num_arm_pulls.sum()) / self.num_arm_pulls[chosen_arm])\n",
        "\n",
        "ucb_agent = UCBAgent(5)\n",
        "eval_agent(bandit_env, ucb_agent, N = 10000)"
      ],
      "metadata": {
        "colab": {
          "base_uri": "https://localhost:8080/"
        },
        "id": "LspKmU1QZUW4",
        "outputId": "86d12fcc-63f5-47f6-d525-68e115089e31"
      },
      "execution_count": null,
      "outputs": [
        {
          "output_type": "execute_result",
          "data": {
            "text/plain": [
              "9157"
            ]
          },
          "metadata": {},
          "execution_count": 62
        }
      ]
    },
    {
      "cell_type": "markdown",
      "source": [
        "## Comparing Agents"
      ],
      "metadata": {
        "id": "V24GudhYdy5_"
      }
    },
    {
      "cell_type": "code",
      "source": [
        "import plotly.express as px\n",
        "\n",
        "\n",
        "def reward_over_time(env, agent, N = 1000):\n",
        "  #Return the total reward achieved over N steps\n",
        "  total_reward = 0\n",
        "  total_reward_over_time = []\n",
        "  for _ in range(N):\n",
        "    selected_arm = agent.select_arm()\n",
        "    reward = env.pull(agent.select_arm())\n",
        "    total_reward += reward\n",
        "\n",
        "    agent.update(selected_arm, reward)\n",
        "    total_reward_over_time.append(total_reward)\n",
        "\n",
        "  return total_reward_over_time\n",
        "\n",
        "random_rewards = reward_over_time(bandit_env, random_agent, N=1000)\n",
        "epsilon_greedy_rewards = reward_over_time(bandit_env, eps_agent, N=1000)\n",
        "ucb_rewards = reward_over_time(bandit_env, ucb_agent, N=1000)\n",
        "\n",
        "# Create a DataFrame to store all the reward data\n",
        "import pandas as pd\n",
        "df = pd.DataFrame({\n",
        "    'Random Agent': random_rewards,\n",
        "    'Epsilon-Greedy Agent': epsilon_greedy_rewards,\n",
        "    'UCB Agent': ucb_rewards\n",
        "})\n",
        "\n",
        "# Plotting\n",
        "fig = px.line(df, labels={'index': 'Steps', 'value': 'Total Reward'},\n",
        "              title='Total Reward Over Time for Different Agents')\n",
        "fig.show()"
      ],
      "metadata": {
        "colab": {
          "base_uri": "https://localhost:8080/",
          "height": 542
        },
        "id": "da3k4K-MdNy2",
        "outputId": "5eb7ad94-7451-4263-9056-93763578ee8e"
      },
      "execution_count": null,
      "outputs": [
        {
          "output_type": "display_data",
          "data": {
            "text/html": [
              "<html>\n",
              "<head><meta charset=\"utf-8\" /></head>\n",
              "<body>\n",
              "    <div>            <script src=\"https://cdnjs.cloudflare.com/ajax/libs/mathjax/2.7.5/MathJax.js?config=TeX-AMS-MML_SVG\"></script><script type=\"text/javascript\">if (window.MathJax && window.MathJax.Hub && window.MathJax.Hub.Config) {window.MathJax.Hub.Config({SVG: {font: \"STIX-Web\"}});}</script>                <script type=\"text/javascript\">window.PlotlyConfig = {MathJaxConfig: 'local'};</script>\n",
              "        <script charset=\"utf-8\" src=\"https://cdn.plot.ly/plotly-2.24.1.min.js\"></script>                <div id=\"23f4deb8-6ef2-4414-9eda-37081561e97b\" class=\"plotly-graph-div\" style=\"height:525px; width:100%;\"></div>            <script type=\"text/javascript\">                                    window.PLOTLYENV=window.PLOTLYENV || {};                                    if (document.getElementById(\"23f4deb8-6ef2-4414-9eda-37081561e97b\")) {                    Plotly.newPlot(                        \"23f4deb8-6ef2-4414-9eda-37081561e97b\",                        [{\"hovertemplate\":\"variable=Random Agent\\u003cbr\\u003eSteps=%{x}\\u003cbr\\u003eTotal Reward=%{y}\\u003cextra\\u003e\\u003c\\u002fextra\\u003e\",\"legendgroup\":\"Random Agent\",\"line\":{\"color\":\"#636efa\",\"dash\":\"solid\"},\"marker\":{\"symbol\":\"circle\"},\"mode\":\"lines\",\"name\":\"Random Agent\",\"showlegend\":true,\"x\":[0,1,2,3,4,5,6,7,8,9,10,11,12,13,14,15,16,17,18,19,20,21,22,23,24,25,26,27,28,29,30,31,32,33,34,35,36,37,38,39,40,41,42,43,44,45,46,47,48,49,50,51,52,53,54,55,56,57,58,59,60,61,62,63,64,65,66,67,68,69,70,71,72,73,74,75,76,77,78,79,80,81,82,83,84,85,86,87,88,89,90,91,92,93,94,95,96,97,98,99,100,101,102,103,104,105,106,107,108,109,110,111,112,113,114,115,116,117,118,119,120,121,122,123,124,125,126,127,128,129,130,131,132,133,134,135,136,137,138,139,140,141,142,143,144,145,146,147,148,149,150,151,152,153,154,155,156,157,158,159,160,161,162,163,164,165,166,167,168,169,170,171,172,173,174,175,176,177,178,179,180,181,182,183,184,185,186,187,188,189,190,191,192,193,194,195,196,197,198,199,200,201,202,203,204,205,206,207,208,209,210,211,212,213,214,215,216,217,218,219,220,221,222,223,224,225,226,227,228,229,230,231,232,233,234,235,236,237,238,239,240,241,242,243,244,245,246,247,248,249,250,251,252,253,254,255,256,257,258,259,260,261,262,263,264,265,266,267,268,269,270,271,272,273,274,275,276,277,278,279,280,281,282,283,284,285,286,287,288,289,290,291,292,293,294,295,296,297,298,299,300,301,302,303,304,305,306,307,308,309,310,311,312,313,314,315,316,317,318,319,320,321,322,323,324,325,326,327,328,329,330,331,332,333,334,335,336,337,338,339,340,341,342,343,344,345,346,347,348,349,350,351,352,353,354,355,356,357,358,359,360,361,362,363,364,365,366,367,368,369,370,371,372,373,374,375,376,377,378,379,380,381,382,383,384,385,386,387,388,389,390,391,392,393,394,395,396,397,398,399,400,401,402,403,404,405,406,407,408,409,410,411,412,413,414,415,416,417,418,419,420,421,422,423,424,425,426,427,428,429,430,431,432,433,434,435,436,437,438,439,440,441,442,443,444,445,446,447,448,449,450,451,452,453,454,455,456,457,458,459,460,461,462,463,464,465,466,467,468,469,470,471,472,473,474,475,476,477,478,479,480,481,482,483,484,485,486,487,488,489,490,491,492,493,494,495,496,497,498,499,500,501,502,503,504,505,506,507,508,509,510,511,512,513,514,515,516,517,518,519,520,521,522,523,524,525,526,527,528,529,530,531,532,533,534,535,536,537,538,539,540,541,542,543,544,545,546,547,548,549,550,551,552,553,554,555,556,557,558,559,560,561,562,563,564,565,566,567,568,569,570,571,572,573,574,575,576,577,578,579,580,581,582,583,584,585,586,587,588,589,590,591,592,593,594,595,596,597,598,599,600,601,602,603,604,605,606,607,608,609,610,611,612,613,614,615,616,617,618,619,620,621,622,623,624,625,626,627,628,629,630,631,632,633,634,635,636,637,638,639,640,641,642,643,644,645,646,647,648,649,650,651,652,653,654,655,656,657,658,659,660,661,662,663,664,665,666,667,668,669,670,671,672,673,674,675,676,677,678,679,680,681,682,683,684,685,686,687,688,689,690,691,692,693,694,695,696,697,698,699,700,701,702,703,704,705,706,707,708,709,710,711,712,713,714,715,716,717,718,719,720,721,722,723,724,725,726,727,728,729,730,731,732,733,734,735,736,737,738,739,740,741,742,743,744,745,746,747,748,749,750,751,752,753,754,755,756,757,758,759,760,761,762,763,764,765,766,767,768,769,770,771,772,773,774,775,776,777,778,779,780,781,782,783,784,785,786,787,788,789,790,791,792,793,794,795,796,797,798,799,800,801,802,803,804,805,806,807,808,809,810,811,812,813,814,815,816,817,818,819,820,821,822,823,824,825,826,827,828,829,830,831,832,833,834,835,836,837,838,839,840,841,842,843,844,845,846,847,848,849,850,851,852,853,854,855,856,857,858,859,860,861,862,863,864,865,866,867,868,869,870,871,872,873,874,875,876,877,878,879,880,881,882,883,884,885,886,887,888,889,890,891,892,893,894,895,896,897,898,899,900,901,902,903,904,905,906,907,908,909,910,911,912,913,914,915,916,917,918,919,920,921,922,923,924,925,926,927,928,929,930,931,932,933,934,935,936,937,938,939,940,941,942,943,944,945,946,947,948,949,950,951,952,953,954,955,956,957,958,959,960,961,962,963,964,965,966,967,968,969,970,971,972,973,974,975,976,977,978,979,980,981,982,983,984,985,986,987,988,989,990,991,992,993,994,995,996,997,998,999],\"xaxis\":\"x\",\"y\":[1,2,3,3,4,5,6,7,8,8,9,10,10,11,12,13,13,13,14,14,14,14,14,15,16,17,17,18,18,19,20,21,22,23,24,25,26,27,27,27,28,29,30,31,32,32,33,33,34,34,35,35,36,37,38,39,40,40,40,41,42,43,44,45,46,47,47,48,49,50,51,52,53,54,55,56,56,57,58,59,60,61,61,61,62,63,63,63,64,65,66,67,67,68,68,68,69,69,69,70,71,72,73,73,73,74,74,75,76,77,78,78,79,80,80,81,82,83,84,84,85,85,86,87,88,89,89,90,91,92,93,94,94,95,96,96,97,98,98,99,100,101,102,102,102,103,104,105,106,107,107,107,107,107,108,108,108,108,108,109,109,110,111,112,113,114,115,116,117,117,118,118,119,119,120,121,122,123,124,125,126,127,128,128,128,129,130,131,132,132,133,134,135,136,137,138,139,140,141,142,143,144,144,145,146,147,148,149,149,149,150,151,152,153,154,155,156,157,158,159,159,159,160,161,162,162,163,163,164,164,165,165,166,167,167,168,169,170,171,172,173,173,173,174,175,176,177,178,179,180,180,181,181,182,183,184,184,185,185,186,187,187,188,188,189,189,190,191,192,193,194,195,196,197,197,198,198,198,199,200,201,202,203,204,204,204,205,205,206,207,207,208,208,209,210,211,212,213,214,215,216,217,218,219,220,220,221,222,222,222,223,223,224,225,226,226,227,227,228,228,229,230,231,231,232,233,234,234,235,236,237,237,237,238,239,240,241,242,243,243,243,243,244,244,245,245,245,246,246,246,247,248,248,249,250,251,251,252,253,253,254,255,256,257,258,259,260,261,261,262,262,263,263,263,263,263,264,265,266,267,267,268,269,270,271,272,273,273,274,274,275,275,276,277,278,278,279,280,281,282,283,283,284,285,285,285,286,287,288,288,289,290,291,292,292,293,293,293,293,293,294,295,296,297,297,298,299,300,301,302,303,303,303,303,304,305,306,306,307,308,309,310,311,312,313,314,315,316,316,317,318,318,319,320,321,322,323,324,325,325,325,325,325,325,325,325,326,326,327,327,328,329,330,330,331,332,333,333,334,335,336,336,337,338,339,339,339,340,341,342,342,343,343,344,345,346,347,348,349,349,350,351,352,353,354,355,356,357,358,359,360,361,362,363,363,364,365,366,367,368,368,369,370,371,371,371,372,373,374,375,376,376,377,378,379,380,381,381,381,382,383,384,385,386,387,387,388,388,389,390,390,391,391,391,392,392,393,394,395,395,396,397,397,398,399,400,401,401,401,402,403,404,404,404,404,405,405,405,406,407,407,408,409,410,411,411,412,413,414,415,415,416,417,418,419,420,421,422,423,424,425,425,426,426,427,427,427,428,429,430,431,432,433,434,434,434,435,436,436,437,438,439,439,439,440,441,441,441,441,441,442,443,444,445,445,446,447,448,448,449,449,450,450,451,452,453,454,455,456,456,456,457,458,459,460,461,461,461,461,462,463,463,464,464,464,464,465,466,467,468,469,469,470,471,471,472,473,473,474,474,474,475,476,477,477,478,479,479,480,481,481,481,482,482,483,484,485,486,486,487,487,488,488,489,490,491,492,493,494,495,496,496,496,496,497,498,499,499,499,500,500,501,502,503,504,505,506,507,508,508,509,510,510,511,512,512,512,512,512,512,512,513,513,514,514,515,516,517,518,519,520,521,521,522,523,524,525,526,527,527,528,529,529,529,530,530,531,532,532,533,534,535,536,537,537,538,539,539,540,541,542,543,544,544,544,544,545,546,547,548,548,549,550,550,551,552,552,552,553,554,555,555,556,557,558,559,559,560,561,562,563,563,564,565,565,566,567,568,569,570,571,572,573,574,575,575,576,577,577,578,579,580,580,580,580,580,581,581,582,583,584,585,586,587,588,589,589,589,590,591,592,593,594,595,595,595,596,597,598,599,600,600,601,602,603,603,604,605,605,606,607,608,609,610,610,610,611,611,611,612,612,612,613,613,614,615,616,617,617,618,619,620,621,622,622,622,622,622,623,623,624,624,625,626,626,627,628,628,629,629,630,631,632,633,633,634,635,635,636,637,638,639,639,639,639,640,641,642,643,644,645,646,647,647,647,648,649,650,650,651,652,653,653,654,655,655,656,657,657,658,659,660,661,662,663,664,664,665,665,666,667,668,668,669,669,670,671,671,672,673,673,674,675,676,677,677,678,679,680,681,682,683,684,685,686,687,687,688,689,689,690,691,692,693,694,694,695,696,697,698],\"yaxis\":\"y\",\"type\":\"scattergl\"},{\"hovertemplate\":\"variable=Epsilon-Greedy Agent\\u003cbr\\u003eSteps=%{x}\\u003cbr\\u003eTotal Reward=%{y}\\u003cextra\\u003e\\u003c\\u002fextra\\u003e\",\"legendgroup\":\"Epsilon-Greedy Agent\",\"line\":{\"color\":\"#EF553B\",\"dash\":\"solid\"},\"marker\":{\"symbol\":\"circle\"},\"mode\":\"lines\",\"name\":\"Epsilon-Greedy Agent\",\"showlegend\":true,\"x\":[0,1,2,3,4,5,6,7,8,9,10,11,12,13,14,15,16,17,18,19,20,21,22,23,24,25,26,27,28,29,30,31,32,33,34,35,36,37,38,39,40,41,42,43,44,45,46,47,48,49,50,51,52,53,54,55,56,57,58,59,60,61,62,63,64,65,66,67,68,69,70,71,72,73,74,75,76,77,78,79,80,81,82,83,84,85,86,87,88,89,90,91,92,93,94,95,96,97,98,99,100,101,102,103,104,105,106,107,108,109,110,111,112,113,114,115,116,117,118,119,120,121,122,123,124,125,126,127,128,129,130,131,132,133,134,135,136,137,138,139,140,141,142,143,144,145,146,147,148,149,150,151,152,153,154,155,156,157,158,159,160,161,162,163,164,165,166,167,168,169,170,171,172,173,174,175,176,177,178,179,180,181,182,183,184,185,186,187,188,189,190,191,192,193,194,195,196,197,198,199,200,201,202,203,204,205,206,207,208,209,210,211,212,213,214,215,216,217,218,219,220,221,222,223,224,225,226,227,228,229,230,231,232,233,234,235,236,237,238,239,240,241,242,243,244,245,246,247,248,249,250,251,252,253,254,255,256,257,258,259,260,261,262,263,264,265,266,267,268,269,270,271,272,273,274,275,276,277,278,279,280,281,282,283,284,285,286,287,288,289,290,291,292,293,294,295,296,297,298,299,300,301,302,303,304,305,306,307,308,309,310,311,312,313,314,315,316,317,318,319,320,321,322,323,324,325,326,327,328,329,330,331,332,333,334,335,336,337,338,339,340,341,342,343,344,345,346,347,348,349,350,351,352,353,354,355,356,357,358,359,360,361,362,363,364,365,366,367,368,369,370,371,372,373,374,375,376,377,378,379,380,381,382,383,384,385,386,387,388,389,390,391,392,393,394,395,396,397,398,399,400,401,402,403,404,405,406,407,408,409,410,411,412,413,414,415,416,417,418,419,420,421,422,423,424,425,426,427,428,429,430,431,432,433,434,435,436,437,438,439,440,441,442,443,444,445,446,447,448,449,450,451,452,453,454,455,456,457,458,459,460,461,462,463,464,465,466,467,468,469,470,471,472,473,474,475,476,477,478,479,480,481,482,483,484,485,486,487,488,489,490,491,492,493,494,495,496,497,498,499,500,501,502,503,504,505,506,507,508,509,510,511,512,513,514,515,516,517,518,519,520,521,522,523,524,525,526,527,528,529,530,531,532,533,534,535,536,537,538,539,540,541,542,543,544,545,546,547,548,549,550,551,552,553,554,555,556,557,558,559,560,561,562,563,564,565,566,567,568,569,570,571,572,573,574,575,576,577,578,579,580,581,582,583,584,585,586,587,588,589,590,591,592,593,594,595,596,597,598,599,600,601,602,603,604,605,606,607,608,609,610,611,612,613,614,615,616,617,618,619,620,621,622,623,624,625,626,627,628,629,630,631,632,633,634,635,636,637,638,639,640,641,642,643,644,645,646,647,648,649,650,651,652,653,654,655,656,657,658,659,660,661,662,663,664,665,666,667,668,669,670,671,672,673,674,675,676,677,678,679,680,681,682,683,684,685,686,687,688,689,690,691,692,693,694,695,696,697,698,699,700,701,702,703,704,705,706,707,708,709,710,711,712,713,714,715,716,717,718,719,720,721,722,723,724,725,726,727,728,729,730,731,732,733,734,735,736,737,738,739,740,741,742,743,744,745,746,747,748,749,750,751,752,753,754,755,756,757,758,759,760,761,762,763,764,765,766,767,768,769,770,771,772,773,774,775,776,777,778,779,780,781,782,783,784,785,786,787,788,789,790,791,792,793,794,795,796,797,798,799,800,801,802,803,804,805,806,807,808,809,810,811,812,813,814,815,816,817,818,819,820,821,822,823,824,825,826,827,828,829,830,831,832,833,834,835,836,837,838,839,840,841,842,843,844,845,846,847,848,849,850,851,852,853,854,855,856,857,858,859,860,861,862,863,864,865,866,867,868,869,870,871,872,873,874,875,876,877,878,879,880,881,882,883,884,885,886,887,888,889,890,891,892,893,894,895,896,897,898,899,900,901,902,903,904,905,906,907,908,909,910,911,912,913,914,915,916,917,918,919,920,921,922,923,924,925,926,927,928,929,930,931,932,933,934,935,936,937,938,939,940,941,942,943,944,945,946,947,948,949,950,951,952,953,954,955,956,957,958,959,960,961,962,963,964,965,966,967,968,969,970,971,972,973,974,975,976,977,978,979,980,981,982,983,984,985,986,987,988,989,990,991,992,993,994,995,996,997,998,999],\"xaxis\":\"x\",\"y\":[1,2,2,3,4,5,6,7,8,9,9,10,11,12,13,14,15,16,17,18,19,20,21,22,23,24,25,26,27,28,29,30,31,32,33,34,35,36,37,38,39,40,41,42,43,44,45,45,46,47,48,49,50,51,52,53,54,55,56,57,58,59,60,61,62,63,64,65,66,67,67,68,69,70,71,72,73,74,75,76,77,78,79,80,81,82,83,84,85,86,87,88,89,90,91,92,93,94,95,96,97,98,99,100,101,102,103,104,105,106,106,107,107,108,109,110,111,112,113,114,115,116,117,118,119,120,121,122,123,124,125,126,127,128,129,130,130,131,132,133,134,135,136,137,138,139,140,141,142,143,144,145,146,147,148,149,150,151,152,153,154,155,155,155,156,157,158,159,160,161,161,162,163,164,165,166,167,168,169,170,171,172,173,174,174,175,176,177,178,179,180,181,182,183,184,185,185,186,187,187,188,188,189,190,191,192,193,194,195,196,197,198,199,200,201,202,203,204,205,206,207,208,209,210,211,212,213,214,215,216,217,218,219,220,221,222,223,224,225,226,227,228,229,230,231,232,233,233,234,235,236,237,237,238,239,240,241,242,243,244,245,246,247,248,249,250,251,252,253,254,255,256,257,258,259,260,261,262,263,264,265,266,267,268,269,270,271,272,273,274,275,276,277,278,279,280,281,282,283,284,285,286,287,288,289,290,291,292,293,294,295,295,296,297,298,299,300,301,302,303,304,305,306,307,307,308,309,310,310,311,312,313,314,315,316,317,318,319,320,321,322,323,323,323,324,324,325,326,327,328,329,330,331,332,332,333,334,335,336,337,338,339,340,341,342,343,344,345,346,347,348,349,350,351,352,353,354,355,356,357,358,359,360,361,362,363,363,364,365,366,367,368,369,370,371,372,372,373,374,375,376,376,377,378,379,380,381,382,383,383,383,384,385,386,387,388,389,390,391,392,393,394,395,396,397,398,398,399,400,401,402,403,404,405,406,407,408,409,410,411,412,413,413,414,415,416,417,417,418,419,420,420,421,422,423,424,425,426,427,428,428,429,430,431,432,433,434,435,436,437,438,439,440,441,442,443,444,445,445,446,447,448,449,450,451,452,453,454,455,456,457,458,458,459,460,461,462,463,464,465,466,466,467,468,469,470,471,472,473,474,475,476,477,478,479,480,481,482,483,484,485,486,487,488,489,490,491,492,493,494,495,496,497,498,499,500,500,501,502,503,504,505,506,507,508,509,510,511,512,513,514,515,516,517,518,519,520,521,522,523,524,525,526,527,528,529,530,531,532,533,534,535,536,537,538,539,540,540,541,542,543,544,545,546,547,548,549,550,551,552,553,554,555,556,557,558,559,560,561,562,563,563,564,565,566,566,566,567,568,569,570,571,572,573,574,575,576,577,578,579,580,581,582,583,584,585,586,587,588,589,590,591,592,593,594,595,596,597,598,599,600,601,602,603,604,605,606,607,608,609,610,611,612,613,614,615,616,617,618,619,620,621,622,623,623,624,625,626,627,628,629,630,631,632,633,634,635,636,637,637,637,638,639,640,641,642,643,643,644,645,646,647,647,648,649,650,650,651,652,653,654,655,656,657,658,659,660,661,662,663,664,665,666,667,668,669,670,671,672,673,674,675,676,677,678,679,680,681,682,683,684,685,686,687,688,689,689,690,691,692,693,694,695,696,697,698,699,700,700,701,702,703,704,705,706,707,708,709,710,710,711,712,712,712,713,714,715,716,717,718,718,719,719,720,721,722,723,724,725,726,727,728,729,730,731,732,733,734,735,736,737,738,739,740,741,741,742,743,744,745,746,747,748,749,750,751,752,753,754,755,756,757,758,759,760,761,762,763,764,765,766,767,768,769,770,771,772,773,774,775,776,777,778,779,779,780,781,782,783,784,785,786,787,788,789,790,791,792,793,794,795,796,797,798,799,800,801,802,803,804,805,806,807,808,809,810,811,812,813,814,815,816,817,818,819,820,821,822,823,824,825,826,827,828,829,829,830,831,832,833,834,835,836,837,838,839,840,841,842,843,844,845,846,847,848,849,850,851,852,853,854,855,856,857,858,859,860,861,862,863,864,865,866,867,868,868,869,870,871,872,873,874,875,876,877,878,879,880,881,881,882,882,883,884,885,886,887,888,889,890,891,892,893,894,895,895,896,897,898,899,900,901,902,903,904,905,905,906,907,908,909,910,911,912,913,914,915,916,917,918,919,920,921,922,923,924,925,926,927,928,929,930,931,932,933,934,935,936,937,938],\"yaxis\":\"y\",\"type\":\"scattergl\"},{\"hovertemplate\":\"variable=UCB Agent\\u003cbr\\u003eSteps=%{x}\\u003cbr\\u003eTotal Reward=%{y}\\u003cextra\\u003e\\u003c\\u002fextra\\u003e\",\"legendgroup\":\"UCB Agent\",\"line\":{\"color\":\"#00cc96\",\"dash\":\"solid\"},\"marker\":{\"symbol\":\"circle\"},\"mode\":\"lines\",\"name\":\"UCB Agent\",\"showlegend\":true,\"x\":[0,1,2,3,4,5,6,7,8,9,10,11,12,13,14,15,16,17,18,19,20,21,22,23,24,25,26,27,28,29,30,31,32,33,34,35,36,37,38,39,40,41,42,43,44,45,46,47,48,49,50,51,52,53,54,55,56,57,58,59,60,61,62,63,64,65,66,67,68,69,70,71,72,73,74,75,76,77,78,79,80,81,82,83,84,85,86,87,88,89,90,91,92,93,94,95,96,97,98,99,100,101,102,103,104,105,106,107,108,109,110,111,112,113,114,115,116,117,118,119,120,121,122,123,124,125,126,127,128,129,130,131,132,133,134,135,136,137,138,139,140,141,142,143,144,145,146,147,148,149,150,151,152,153,154,155,156,157,158,159,160,161,162,163,164,165,166,167,168,169,170,171,172,173,174,175,176,177,178,179,180,181,182,183,184,185,186,187,188,189,190,191,192,193,194,195,196,197,198,199,200,201,202,203,204,205,206,207,208,209,210,211,212,213,214,215,216,217,218,219,220,221,222,223,224,225,226,227,228,229,230,231,232,233,234,235,236,237,238,239,240,241,242,243,244,245,246,247,248,249,250,251,252,253,254,255,256,257,258,259,260,261,262,263,264,265,266,267,268,269,270,271,272,273,274,275,276,277,278,279,280,281,282,283,284,285,286,287,288,289,290,291,292,293,294,295,296,297,298,299,300,301,302,303,304,305,306,307,308,309,310,311,312,313,314,315,316,317,318,319,320,321,322,323,324,325,326,327,328,329,330,331,332,333,334,335,336,337,338,339,340,341,342,343,344,345,346,347,348,349,350,351,352,353,354,355,356,357,358,359,360,361,362,363,364,365,366,367,368,369,370,371,372,373,374,375,376,377,378,379,380,381,382,383,384,385,386,387,388,389,390,391,392,393,394,395,396,397,398,399,400,401,402,403,404,405,406,407,408,409,410,411,412,413,414,415,416,417,418,419,420,421,422,423,424,425,426,427,428,429,430,431,432,433,434,435,436,437,438,439,440,441,442,443,444,445,446,447,448,449,450,451,452,453,454,455,456,457,458,459,460,461,462,463,464,465,466,467,468,469,470,471,472,473,474,475,476,477,478,479,480,481,482,483,484,485,486,487,488,489,490,491,492,493,494,495,496,497,498,499,500,501,502,503,504,505,506,507,508,509,510,511,512,513,514,515,516,517,518,519,520,521,522,523,524,525,526,527,528,529,530,531,532,533,534,535,536,537,538,539,540,541,542,543,544,545,546,547,548,549,550,551,552,553,554,555,556,557,558,559,560,561,562,563,564,565,566,567,568,569,570,571,572,573,574,575,576,577,578,579,580,581,582,583,584,585,586,587,588,589,590,591,592,593,594,595,596,597,598,599,600,601,602,603,604,605,606,607,608,609,610,611,612,613,614,615,616,617,618,619,620,621,622,623,624,625,626,627,628,629,630,631,632,633,634,635,636,637,638,639,640,641,642,643,644,645,646,647,648,649,650,651,652,653,654,655,656,657,658,659,660,661,662,663,664,665,666,667,668,669,670,671,672,673,674,675,676,677,678,679,680,681,682,683,684,685,686,687,688,689,690,691,692,693,694,695,696,697,698,699,700,701,702,703,704,705,706,707,708,709,710,711,712,713,714,715,716,717,718,719,720,721,722,723,724,725,726,727,728,729,730,731,732,733,734,735,736,737,738,739,740,741,742,743,744,745,746,747,748,749,750,751,752,753,754,755,756,757,758,759,760,761,762,763,764,765,766,767,768,769,770,771,772,773,774,775,776,777,778,779,780,781,782,783,784,785,786,787,788,789,790,791,792,793,794,795,796,797,798,799,800,801,802,803,804,805,806,807,808,809,810,811,812,813,814,815,816,817,818,819,820,821,822,823,824,825,826,827,828,829,830,831,832,833,834,835,836,837,838,839,840,841,842,843,844,845,846,847,848,849,850,851,852,853,854,855,856,857,858,859,860,861,862,863,864,865,866,867,868,869,870,871,872,873,874,875,876,877,878,879,880,881,882,883,884,885,886,887,888,889,890,891,892,893,894,895,896,897,898,899,900,901,902,903,904,905,906,907,908,909,910,911,912,913,914,915,916,917,918,919,920,921,922,923,924,925,926,927,928,929,930,931,932,933,934,935,936,937,938,939,940,941,942,943,944,945,946,947,948,949,950,951,952,953,954,955,956,957,958,959,960,961,962,963,964,965,966,967,968,969,970,971,972,973,974,975,976,977,978,979,980,981,982,983,984,985,986,987,988,989,990,991,992,993,994,995,996,997,998,999],\"xaxis\":\"x\",\"y\":[1,2,3,4,5,6,7,7,8,8,9,10,11,12,13,14,15,16,17,18,18,19,20,21,22,22,23,24,25,26,27,28,29,30,31,32,33,34,35,36,37,38,39,40,41,42,43,44,45,46,47,48,49,50,51,52,53,54,55,56,57,58,59,60,61,62,63,64,64,65,66,67,68,69,70,71,72,73,74,75,76,77,78,79,79,80,81,82,82,82,83,84,84,85,86,87,88,89,90,91,91,92,93,94,95,96,97,98,99,100,100,101,102,103,104,105,106,107,108,109,110,110,111,112,113,114,114,115,116,117,118,119,120,121,122,123,124,125,126,127,127,128,129,130,131,132,133,134,135,136,137,138,139,139,140,141,142,143,144,145,146,147,148,149,149,150,151,152,153,154,155,156,157,158,159,160,161,162,163,163,164,165,166,167,168,169,170,171,172,173,174,175,176,177,177,178,179,180,181,182,183,184,185,186,187,188,189,190,191,192,193,194,195,195,196,196,197,198,199,200,201,202,203,204,205,206,207,207,208,209,210,211,212,212,212,213,214,215,216,217,218,218,219,219,219,220,221,222,223,224,225,226,227,228,229,230,231,232,233,234,235,236,237,238,239,240,241,242,243,244,245,246,247,248,249,250,251,252,253,254,255,256,257,258,259,260,261,262,263,264,265,266,266,267,268,269,270,271,272,273,274,275,276,277,278,279,280,281,282,283,284,285,286,287,288,289,290,291,292,293,294,295,296,297,298,299,300,301,302,303,304,305,306,307,308,309,310,311,312,313,314,315,316,316,316,317,318,319,320,321,322,323,324,325,326,327,328,328,329,330,331,332,333,334,335,336,337,338,339,340,341,342,343,344,345,346,347,348,349,350,351,352,353,353,354,355,356,357,358,359,360,361,362,363,364,365,366,367,368,369,370,371,372,373,374,375,376,377,378,379,380,381,382,383,384,385,386,387,388,388,389,390,391,392,392,393,394,395,396,397,398,399,400,401,402,403,404,405,406,407,408,409,410,411,412,413,414,415,415,416,417,418,419,420,421,422,422,423,424,425,426,427,428,428,429,430,431,432,433,434,435,435,436,437,438,438,439,440,441,442,443,444,445,446,447,448,449,450,451,452,452,453,453,454,455,456,457,458,459,460,460,461,462,462,463,464,465,466,467,468,468,469,470,471,472,473,474,475,476,476,477,478,478,478,479,480,481,481,481,482,483,484,485,486,487,487,488,489,490,490,491,492,493,494,495,496,496,497,498,499,500,501,502,502,503,504,505,506,507,508,509,510,511,512,513,514,515,516,517,518,519,520,521,522,523,524,525,526,527,528,529,530,531,532,533,534,535,535,536,536,537,538,539,540,541,542,543,544,544,545,546,546,547,548,548,549,550,551,552,553,554,555,556,557,557,558,559,560,561,562,563,564,564,565,566,567,568,569,570,571,572,573,574,575,576,577,578,579,580,581,582,583,584,585,586,587,588,589,590,591,592,593,594,595,596,597,598,598,599,600,601,602,603,604,605,606,607,608,609,610,611,612,613,614,615,616,617,617,618,619,620,621,622,623,624,625,626,627,628,629,630,631,632,633,634,635,636,637,638,639,640,641,642,643,644,645,646,647,648,649,650,651,652,653,654,655,656,657,658,659,660,661,662,663,664,665,666,667,668,669,670,671,672,673,674,675,676,677,678,679,680,681,681,682,683,684,685,686,687,687,688,688,689,690,691,692,693,694,695,696,696,697,698,699,700,701,702,703,704,705,706,707,708,709,710,711,711,712,713,714,715,716,717,718,719,720,721,722,723,724,724,725,726,726,727,728,729,730,731,732,733,734,735,736,737,738,739,739,740,741,742,743,744,745,746,747,748,749,750,751,752,753,754,755,756,756,757,758,759,760,761,762,763,764,765,766,767,768,769,770,771,772,773,774,774,775,776,777,778,779,780,781,782,783,784,785,786,787,788,789,790,791,792,792,793,794,795,796,797,798,799,800,801,802,803,804,805,806,807,808,809,810,810,811,812,813,814,815,816,817,818,819,820,821,821,822,823,824,825,826,827,828,829,830,831,832,833,834,835,836,837,838,839,840,840,841,842,843,844,845,846,847,848,849,850,851,852,853,854,855,856,857,858,859,860,861,862,863,864,865,866,867,868,869,869,870,871,872,873,874,875,876,877,878,879,879,880,881,882,883,884,885,886,887,888,889,890,891,892,893,894,895,896,897,898,899,900,901,902,903,904,904,905,906,907,908,909,910,910,911,912,913,914,915,915,916,916,917,918,919],\"yaxis\":\"y\",\"type\":\"scattergl\"}],                        {\"template\":{\"data\":{\"histogram2dcontour\":[{\"type\":\"histogram2dcontour\",\"colorbar\":{\"outlinewidth\":0,\"ticks\":\"\"},\"colorscale\":[[0.0,\"#0d0887\"],[0.1111111111111111,\"#46039f\"],[0.2222222222222222,\"#7201a8\"],[0.3333333333333333,\"#9c179e\"],[0.4444444444444444,\"#bd3786\"],[0.5555555555555556,\"#d8576b\"],[0.6666666666666666,\"#ed7953\"],[0.7777777777777778,\"#fb9f3a\"],[0.8888888888888888,\"#fdca26\"],[1.0,\"#f0f921\"]]}],\"choropleth\":[{\"type\":\"choropleth\",\"colorbar\":{\"outlinewidth\":0,\"ticks\":\"\"}}],\"histogram2d\":[{\"type\":\"histogram2d\",\"colorbar\":{\"outlinewidth\":0,\"ticks\":\"\"},\"colorscale\":[[0.0,\"#0d0887\"],[0.1111111111111111,\"#46039f\"],[0.2222222222222222,\"#7201a8\"],[0.3333333333333333,\"#9c179e\"],[0.4444444444444444,\"#bd3786\"],[0.5555555555555556,\"#d8576b\"],[0.6666666666666666,\"#ed7953\"],[0.7777777777777778,\"#fb9f3a\"],[0.8888888888888888,\"#fdca26\"],[1.0,\"#f0f921\"]]}],\"heatmap\":[{\"type\":\"heatmap\",\"colorbar\":{\"outlinewidth\":0,\"ticks\":\"\"},\"colorscale\":[[0.0,\"#0d0887\"],[0.1111111111111111,\"#46039f\"],[0.2222222222222222,\"#7201a8\"],[0.3333333333333333,\"#9c179e\"],[0.4444444444444444,\"#bd3786\"],[0.5555555555555556,\"#d8576b\"],[0.6666666666666666,\"#ed7953\"],[0.7777777777777778,\"#fb9f3a\"],[0.8888888888888888,\"#fdca26\"],[1.0,\"#f0f921\"]]}],\"heatmapgl\":[{\"type\":\"heatmapgl\",\"colorbar\":{\"outlinewidth\":0,\"ticks\":\"\"},\"colorscale\":[[0.0,\"#0d0887\"],[0.1111111111111111,\"#46039f\"],[0.2222222222222222,\"#7201a8\"],[0.3333333333333333,\"#9c179e\"],[0.4444444444444444,\"#bd3786\"],[0.5555555555555556,\"#d8576b\"],[0.6666666666666666,\"#ed7953\"],[0.7777777777777778,\"#fb9f3a\"],[0.8888888888888888,\"#fdca26\"],[1.0,\"#f0f921\"]]}],\"contourcarpet\":[{\"type\":\"contourcarpet\",\"colorbar\":{\"outlinewidth\":0,\"ticks\":\"\"}}],\"contour\":[{\"type\":\"contour\",\"colorbar\":{\"outlinewidth\":0,\"ticks\":\"\"},\"colorscale\":[[0.0,\"#0d0887\"],[0.1111111111111111,\"#46039f\"],[0.2222222222222222,\"#7201a8\"],[0.3333333333333333,\"#9c179e\"],[0.4444444444444444,\"#bd3786\"],[0.5555555555555556,\"#d8576b\"],[0.6666666666666666,\"#ed7953\"],[0.7777777777777778,\"#fb9f3a\"],[0.8888888888888888,\"#fdca26\"],[1.0,\"#f0f921\"]]}],\"surface\":[{\"type\":\"surface\",\"colorbar\":{\"outlinewidth\":0,\"ticks\":\"\"},\"colorscale\":[[0.0,\"#0d0887\"],[0.1111111111111111,\"#46039f\"],[0.2222222222222222,\"#7201a8\"],[0.3333333333333333,\"#9c179e\"],[0.4444444444444444,\"#bd3786\"],[0.5555555555555556,\"#d8576b\"],[0.6666666666666666,\"#ed7953\"],[0.7777777777777778,\"#fb9f3a\"],[0.8888888888888888,\"#fdca26\"],[1.0,\"#f0f921\"]]}],\"mesh3d\":[{\"type\":\"mesh3d\",\"colorbar\":{\"outlinewidth\":0,\"ticks\":\"\"}}],\"scatter\":[{\"fillpattern\":{\"fillmode\":\"overlay\",\"size\":10,\"solidity\":0.2},\"type\":\"scatter\"}],\"parcoords\":[{\"type\":\"parcoords\",\"line\":{\"colorbar\":{\"outlinewidth\":0,\"ticks\":\"\"}}}],\"scatterpolargl\":[{\"type\":\"scatterpolargl\",\"marker\":{\"colorbar\":{\"outlinewidth\":0,\"ticks\":\"\"}}}],\"bar\":[{\"error_x\":{\"color\":\"#2a3f5f\"},\"error_y\":{\"color\":\"#2a3f5f\"},\"marker\":{\"line\":{\"color\":\"#E5ECF6\",\"width\":0.5},\"pattern\":{\"fillmode\":\"overlay\",\"size\":10,\"solidity\":0.2}},\"type\":\"bar\"}],\"scattergeo\":[{\"type\":\"scattergeo\",\"marker\":{\"colorbar\":{\"outlinewidth\":0,\"ticks\":\"\"}}}],\"scatterpolar\":[{\"type\":\"scatterpolar\",\"marker\":{\"colorbar\":{\"outlinewidth\":0,\"ticks\":\"\"}}}],\"histogram\":[{\"marker\":{\"pattern\":{\"fillmode\":\"overlay\",\"size\":10,\"solidity\":0.2}},\"type\":\"histogram\"}],\"scattergl\":[{\"type\":\"scattergl\",\"marker\":{\"colorbar\":{\"outlinewidth\":0,\"ticks\":\"\"}}}],\"scatter3d\":[{\"type\":\"scatter3d\",\"line\":{\"colorbar\":{\"outlinewidth\":0,\"ticks\":\"\"}},\"marker\":{\"colorbar\":{\"outlinewidth\":0,\"ticks\":\"\"}}}],\"scattermapbox\":[{\"type\":\"scattermapbox\",\"marker\":{\"colorbar\":{\"outlinewidth\":0,\"ticks\":\"\"}}}],\"scatterternary\":[{\"type\":\"scatterternary\",\"marker\":{\"colorbar\":{\"outlinewidth\":0,\"ticks\":\"\"}}}],\"scattercarpet\":[{\"type\":\"scattercarpet\",\"marker\":{\"colorbar\":{\"outlinewidth\":0,\"ticks\":\"\"}}}],\"carpet\":[{\"aaxis\":{\"endlinecolor\":\"#2a3f5f\",\"gridcolor\":\"white\",\"linecolor\":\"white\",\"minorgridcolor\":\"white\",\"startlinecolor\":\"#2a3f5f\"},\"baxis\":{\"endlinecolor\":\"#2a3f5f\",\"gridcolor\":\"white\",\"linecolor\":\"white\",\"minorgridcolor\":\"white\",\"startlinecolor\":\"#2a3f5f\"},\"type\":\"carpet\"}],\"table\":[{\"cells\":{\"fill\":{\"color\":\"#EBF0F8\"},\"line\":{\"color\":\"white\"}},\"header\":{\"fill\":{\"color\":\"#C8D4E3\"},\"line\":{\"color\":\"white\"}},\"type\":\"table\"}],\"barpolar\":[{\"marker\":{\"line\":{\"color\":\"#E5ECF6\",\"width\":0.5},\"pattern\":{\"fillmode\":\"overlay\",\"size\":10,\"solidity\":0.2}},\"type\":\"barpolar\"}],\"pie\":[{\"automargin\":true,\"type\":\"pie\"}]},\"layout\":{\"autotypenumbers\":\"strict\",\"colorway\":[\"#636efa\",\"#EF553B\",\"#00cc96\",\"#ab63fa\",\"#FFA15A\",\"#19d3f3\",\"#FF6692\",\"#B6E880\",\"#FF97FF\",\"#FECB52\"],\"font\":{\"color\":\"#2a3f5f\"},\"hovermode\":\"closest\",\"hoverlabel\":{\"align\":\"left\"},\"paper_bgcolor\":\"white\",\"plot_bgcolor\":\"#E5ECF6\",\"polar\":{\"bgcolor\":\"#E5ECF6\",\"angularaxis\":{\"gridcolor\":\"white\",\"linecolor\":\"white\",\"ticks\":\"\"},\"radialaxis\":{\"gridcolor\":\"white\",\"linecolor\":\"white\",\"ticks\":\"\"}},\"ternary\":{\"bgcolor\":\"#E5ECF6\",\"aaxis\":{\"gridcolor\":\"white\",\"linecolor\":\"white\",\"ticks\":\"\"},\"baxis\":{\"gridcolor\":\"white\",\"linecolor\":\"white\",\"ticks\":\"\"},\"caxis\":{\"gridcolor\":\"white\",\"linecolor\":\"white\",\"ticks\":\"\"}},\"coloraxis\":{\"colorbar\":{\"outlinewidth\":0,\"ticks\":\"\"}},\"colorscale\":{\"sequential\":[[0.0,\"#0d0887\"],[0.1111111111111111,\"#46039f\"],[0.2222222222222222,\"#7201a8\"],[0.3333333333333333,\"#9c179e\"],[0.4444444444444444,\"#bd3786\"],[0.5555555555555556,\"#d8576b\"],[0.6666666666666666,\"#ed7953\"],[0.7777777777777778,\"#fb9f3a\"],[0.8888888888888888,\"#fdca26\"],[1.0,\"#f0f921\"]],\"sequentialminus\":[[0.0,\"#0d0887\"],[0.1111111111111111,\"#46039f\"],[0.2222222222222222,\"#7201a8\"],[0.3333333333333333,\"#9c179e\"],[0.4444444444444444,\"#bd3786\"],[0.5555555555555556,\"#d8576b\"],[0.6666666666666666,\"#ed7953\"],[0.7777777777777778,\"#fb9f3a\"],[0.8888888888888888,\"#fdca26\"],[1.0,\"#f0f921\"]],\"diverging\":[[0,\"#8e0152\"],[0.1,\"#c51b7d\"],[0.2,\"#de77ae\"],[0.3,\"#f1b6da\"],[0.4,\"#fde0ef\"],[0.5,\"#f7f7f7\"],[0.6,\"#e6f5d0\"],[0.7,\"#b8e186\"],[0.8,\"#7fbc41\"],[0.9,\"#4d9221\"],[1,\"#276419\"]]},\"xaxis\":{\"gridcolor\":\"white\",\"linecolor\":\"white\",\"ticks\":\"\",\"title\":{\"standoff\":15},\"zerolinecolor\":\"white\",\"automargin\":true,\"zerolinewidth\":2},\"yaxis\":{\"gridcolor\":\"white\",\"linecolor\":\"white\",\"ticks\":\"\",\"title\":{\"standoff\":15},\"zerolinecolor\":\"white\",\"automargin\":true,\"zerolinewidth\":2},\"scene\":{\"xaxis\":{\"backgroundcolor\":\"#E5ECF6\",\"gridcolor\":\"white\",\"linecolor\":\"white\",\"showbackground\":true,\"ticks\":\"\",\"zerolinecolor\":\"white\",\"gridwidth\":2},\"yaxis\":{\"backgroundcolor\":\"#E5ECF6\",\"gridcolor\":\"white\",\"linecolor\":\"white\",\"showbackground\":true,\"ticks\":\"\",\"zerolinecolor\":\"white\",\"gridwidth\":2},\"zaxis\":{\"backgroundcolor\":\"#E5ECF6\",\"gridcolor\":\"white\",\"linecolor\":\"white\",\"showbackground\":true,\"ticks\":\"\",\"zerolinecolor\":\"white\",\"gridwidth\":2}},\"shapedefaults\":{\"line\":{\"color\":\"#2a3f5f\"}},\"annotationdefaults\":{\"arrowcolor\":\"#2a3f5f\",\"arrowhead\":0,\"arrowwidth\":1},\"geo\":{\"bgcolor\":\"white\",\"landcolor\":\"#E5ECF6\",\"subunitcolor\":\"white\",\"showland\":true,\"showlakes\":true,\"lakecolor\":\"white\"},\"title\":{\"x\":0.05},\"mapbox\":{\"style\":\"light\"}}},\"xaxis\":{\"anchor\":\"y\",\"domain\":[0.0,1.0],\"title\":{\"text\":\"Steps\"}},\"yaxis\":{\"anchor\":\"x\",\"domain\":[0.0,1.0],\"title\":{\"text\":\"Total Reward\"}},\"legend\":{\"title\":{\"text\":\"variable\"},\"tracegroupgap\":0},\"title\":{\"text\":\"Total Reward Over Time for Different Agents\"}},                        {\"responsive\": true}                    ).then(function(){\n",
              "                            \n",
              "var gd = document.getElementById('23f4deb8-6ef2-4414-9eda-37081561e97b');\n",
              "var x = new MutationObserver(function (mutations, observer) {{\n",
              "        var display = window.getComputedStyle(gd).display;\n",
              "        if (!display || display === 'none') {{\n",
              "            console.log([gd, 'removed!']);\n",
              "            Plotly.purge(gd);\n",
              "            observer.disconnect();\n",
              "        }}\n",
              "}});\n",
              "\n",
              "// Listen for the removal of the full notebook cells\n",
              "var notebookContainer = gd.closest('#notebook-container');\n",
              "if (notebookContainer) {{\n",
              "    x.observe(notebookContainer, {childList: true});\n",
              "}}\n",
              "\n",
              "// Listen for the clearing of the current output cell\n",
              "var outputEl = gd.closest('.output');\n",
              "if (outputEl) {{\n",
              "    x.observe(outputEl, {childList: true});\n",
              "}}\n",
              "\n",
              "                        })                };                            </script>        </div>\n",
              "</body>\n",
              "</html>"
            ]
          },
          "metadata": {}
        }
      ]
    },
    {
      "cell_type": "code",
      "source": [],
      "metadata": {
        "id": "otlnqAWleAo9"
      },
      "execution_count": null,
      "outputs": []
    }
  ]
}